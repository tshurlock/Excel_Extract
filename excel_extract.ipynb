{
 "cells": [
  {
   "cell_type": "markdown",
   "metadata": {},
   "source": [
    "Excel Extractor. For Years 4/5/6 of the Maternity Incentive Scheme there are folders that hold the MIS returns from each trust. This is a multitab excel worksheet. The information of interest sits on a single tab, and includes, the declared compliance with each safety action (1-10), the existence of an action plan for safety action (1-10) and any funds requested to meet the saferty action. \n",
    "This script extracts this information per trust (per excel spreadsheet), stores in a list and final creates a df and writes out as csv"
   ]
  },
  {
   "cell_type": "code",
   "execution_count": 11,
   "metadata": {},
   "outputs": [
    {
     "ename": "ModuleNotFoundError",
     "evalue": "No module named 'pyxlsb'",
     "output_type": "error",
     "traceback": [
      "\u001b[1;31m---------------------------------------------------------------------------\u001b[0m",
      "\u001b[1;31mModuleNotFoundError\u001b[0m                       Traceback (most recent call last)",
      "Cell \u001b[1;32mIn[11], line 7\u001b[0m\n\u001b[0;32m      5\u001b[0m \u001b[38;5;28;01mimport\u001b[39;00m \u001b[38;5;21;01mpandas\u001b[39;00m \u001b[38;5;28;01mas\u001b[39;00m \u001b[38;5;21;01mpd\u001b[39;00m\n\u001b[0;32m      6\u001b[0m \u001b[38;5;28;01mimport\u001b[39;00m \u001b[38;5;21;01mos\u001b[39;00m\n\u001b[1;32m----> 7\u001b[0m \u001b[38;5;28;01mimport\u001b[39;00m \u001b[38;5;21;01mpyxlsb\u001b[39;00m\n",
      "\u001b[1;31mModuleNotFoundError\u001b[0m: No module named 'pyxlsb'"
     ]
    }
   ],
   "source": [
    "#append warnings as each append cause warning seen in cell below\n",
    "import warnings\n",
    "warnings.simplefilter(action='ignore', category=FutureWarning)\n",
    "\n",
    "import pandas as pd\n",
    "import os\n",
    "import pyxlsb"
   ]
  },
  {
   "cell_type": "markdown",
   "metadata": {},
   "source": [
    "\"\"\"FutureWarning: Series.__getitem__ treating keys as positions is deprecated. In a future version, integer keys will always be treated as labels (consistent with DataFrame behavior). To access a value by position, use `ser.iloc[pos]`\n",
    "  print(df.iloc[11][3])\"\"\""
   ]
  },
  {
   "cell_type": "code",
   "execution_count": null,
   "metadata": {},
   "outputs": [],
   "source": [
    "#Empty list to hold values extracted from Excel\n",
    "all_values=[]"
   ]
  },
  {
   "cell_type": "markdown",
   "metadata": {},
   "source": [
    "get_excel_values(filename), creates a df of the relevent sheet in file 'D_Board Declaration Form'. The df.iloc values reference the relevent cells in the work sheet. These are added to a list and finally the whole list is added to all_values list"
   ]
  },
  {
   "cell_type": "code",
   "execution_count": 1,
   "metadata": {},
   "outputs": [],
   "source": [
    "def get_excel_values(filename):\n",
    "    df = pd.read_excel(filename, sheet_name= 'D_Board Declaration Form')\n",
    "    values= []\n",
    "    values.append(df.iloc[5][2])\n",
    "    values.append(df.iloc[4][2])\n",
    "    values.append(df.iloc[11][3])\n",
    "    values.append(df.iloc[12][3])\n",
    "    values.append(df.iloc[13][3])\n",
    "    values.append(df.iloc[14][3])\n",
    "    values.append(df.iloc[15][3])\n",
    "    values.append(df.iloc[16][3])\n",
    "    values.append(df.iloc[17][3])\n",
    "    values.append(df.iloc[18][3])\n",
    "    values.append(df.iloc[19][3])\n",
    "    values.append(df.iloc[20][3])\n",
    "\n",
    "    values.append(df.iloc[11][4])\n",
    "    values.append(df.iloc[12][4])\n",
    "    values.append(df.iloc[13][4])\n",
    "    values.append(df.iloc[14][4])\n",
    "    values.append(df.iloc[15][4])\n",
    "    values.append(df.iloc[16][4])\n",
    "    values.append(df.iloc[17][4])\n",
    "    values.append(df.iloc[18][4])\n",
    "    values.append(df.iloc[19][4])\n",
    "    values.append(df.iloc[20][4])\n",
    "\n",
    "    values.append(df.iloc[11][6])\n",
    "    values.append(df.iloc[12][6])\n",
    "    values.append(df.iloc[13][6])\n",
    "    values.append(df.iloc[14][6])\n",
    "    values.append(df.iloc[15][6])\n",
    "    values.append(df.iloc[16][6])\n",
    "    values.append(df.iloc[17][6])\n",
    "    values.append(df.iloc[18][6])\n",
    "    values.append(df.iloc[19][6])\n",
    "    values.append(df.iloc[20][6])\n",
    "    all_values.append(values)"
   ]
  },
  {
   "cell_type": "code",
   "execution_count": 2,
   "metadata": {},
   "outputs": [
    {
     "ename": "NameError",
     "evalue": "name 'pd' is not defined",
     "output_type": "error",
     "traceback": [
      "\u001b[1;31m---------------------------------------------------------------------------\u001b[0m",
      "\u001b[1;31mNameError\u001b[0m                                 Traceback (most recent call last)",
      "Cell \u001b[1;32mIn[2], line 2\u001b[0m\n\u001b[0;32m      1\u001b[0m \u001b[38;5;66;03m#Test to show correct values collected in list. \u001b[39;00m\n\u001b[1;32m----> 2\u001b[0m \u001b[43mget_excel_values\u001b[49m\u001b[43m(\u001b[49m\u001b[38;5;124;43m\"\u001b[39;49m\u001b[38;5;124;43mRead//T684.xlsx\u001b[39;49m\u001b[38;5;124;43m\"\u001b[39;49m\u001b[43m)\u001b[49m\n\u001b[0;32m      3\u001b[0m \u001b[38;5;28mprint\u001b[39m(all_values)\n",
      "Cell \u001b[1;32mIn[1], line 2\u001b[0m, in \u001b[0;36mget_excel_values\u001b[1;34m(filename)\u001b[0m\n\u001b[0;32m      1\u001b[0m \u001b[38;5;28;01mdef\u001b[39;00m \u001b[38;5;21mget_excel_values\u001b[39m(filename):\n\u001b[1;32m----> 2\u001b[0m     df \u001b[38;5;241m=\u001b[39m \u001b[43mpd\u001b[49m\u001b[38;5;241m.\u001b[39mread_excel(filename, sheet_name\u001b[38;5;241m=\u001b[39m \u001b[38;5;124m'\u001b[39m\u001b[38;5;124mD_Board Declaration Form\u001b[39m\u001b[38;5;124m'\u001b[39m)\n\u001b[0;32m      3\u001b[0m     values\u001b[38;5;241m=\u001b[39m []\n\u001b[0;32m      4\u001b[0m     values\u001b[38;5;241m.\u001b[39mappend(df\u001b[38;5;241m.\u001b[39miloc[\u001b[38;5;241m5\u001b[39m][\u001b[38;5;241m2\u001b[39m])\n",
      "\u001b[1;31mNameError\u001b[0m: name 'pd' is not defined"
     ]
    }
   ],
   "source": [
    "#Test to show correct values collected in list. \n",
    "get_excel_values(\"Read//T684.xlsx\")\n",
    "print(all_values)"
   ]
  },
  {
   "cell_type": "code",
   "execution_count": 3,
   "metadata": {},
   "outputs": [],
   "source": [
    "#Re-initialise to start with an empty list if test cell above has been used\n",
    "all_values=[]"
   ]
  },
  {
   "cell_type": "markdown",
   "metadata": {},
   "source": [
    "print_file_names(folder_path), OS walk of the provided folder. Will complete get_excel_values for each excel worksheet in the file. Currently folder needs to be hard coded in file_path and "
   ]
  },
  {
   "cell_type": "code",
   "execution_count": 9,
   "metadata": {},
   "outputs": [
    {
     "name": "stdout",
     "output_type": "stream",
     "text": [
      "F001.xlsx\n",
      "T011.xlsx\n",
      "T013.xlsx\n",
      "T014.xlsx\n",
      "T016.xlsx\n",
      "T020.xlsx\n",
      "T022.xlsx\n",
      "T028.xlsx\n",
      "T029.xlsx\n",
      "T035.xlsx\n",
      "T050.xlsx\n",
      "T066.xlsx\n",
      "T068.xlsx\n",
      "T074.xlsx\n",
      "T075.xlsx\n",
      "T076.xlsx\n",
      "T091.xlsx\n",
      "T096.xlsx\n",
      "T099.xlsx\n",
      "T100.xlsx\n",
      "T106.xlsx\n",
      "T114.xlsx\n",
      "T123.xlsx\n",
      "T139.xlsx\n",
      "T145.xlsx\n",
      "T150.xlsx\n",
      "T164.xlsx\n",
      "T173.xlsx\n",
      "T177.xlsx\n",
      "T178.xlsx\n",
      "T184.xlsx\n",
      "T199.xlsx\n",
      "T205.xlsx\n",
      "T213.xlsx\n",
      "T217.xlsx\n",
      "T221.xlsx\n",
      "T235.xlsx\n",
      "T236.xlsx\n",
      "T246.xlsx\n",
      "T249.xlsx\n",
      "T250.xlsx\n",
      "T262.xlsx\n",
      "T264.xlsx\n",
      "T267.xlsx\n",
      "T277.xlsx\n",
      "T285.xlsx\n",
      "T301.xlsx\n",
      "T309.xlsx\n",
      "T318.xlsx\n",
      "T320.xlsx\n",
      "T321.xlsx\n",
      "T331.xlsx\n",
      "T332.xlsx\n",
      "T339.xlsx\n",
      "T350.xlsx\n",
      "T351.xlsx\n",
      "T359.xlsx\n",
      "T362.xlsx\n",
      "T383.xlsx\n",
      "T389.xlsx\n",
      "T393.xlsx\n",
      "T398.xlsx\n",
      "T411.xlsx\n",
      "T422.xlsx\n",
      "T455.xlsx\n",
      "T456.xlsx\n",
      "T457.xlsx\n",
      "T460.xlsx\n",
      "T462.xlsx\n",
      "T463.xlsx\n",
      "T466.xlsx\n",
      "T467.xlsx\n",
      "T468.xlsx\n",
      "T487.xlsx\n",
      "T489.xlsx\n",
      "T491.xlsx\n",
      "T492.xlsx\n",
      "T504.xlsx\n",
      "T521.xlsx\n",
      "T541.xlsx\n",
      "T554.xlsx\n",
      "T559.xlsx\n",
      "T562.xlsx\n",
      "T564.xlsx\n",
      "T565.xlsx\n",
      "T567.xlsx\n",
      "T569.xlsx\n",
      "T571.xlsb\n"
     ]
    },
    {
     "ename": "ImportError",
     "evalue": "Missing optional dependency 'pyxlsb'.  Use pip or conda to install pyxlsb.",
     "output_type": "error",
     "traceback": [
      "\u001b[1;31m---------------------------------------------------------------------------\u001b[0m",
      "\u001b[1;31mModuleNotFoundError\u001b[0m                       Traceback (most recent call last)",
      "File \u001b[1;32mc:\\Program Files\\Python311\\Lib\\site-packages\\pandas\\compat\\_optional.py:135\u001b[0m, in \u001b[0;36mimport_optional_dependency\u001b[1;34m(name, extra, errors, min_version)\u001b[0m\n\u001b[0;32m    134\u001b[0m \u001b[38;5;28;01mtry\u001b[39;00m:\n\u001b[1;32m--> 135\u001b[0m     module \u001b[38;5;241m=\u001b[39m \u001b[43mimportlib\u001b[49m\u001b[38;5;241;43m.\u001b[39;49m\u001b[43mimport_module\u001b[49m\u001b[43m(\u001b[49m\u001b[43mname\u001b[49m\u001b[43m)\u001b[49m\n\u001b[0;32m    136\u001b[0m \u001b[38;5;28;01mexcept\u001b[39;00m \u001b[38;5;167;01mImportError\u001b[39;00m:\n",
      "File \u001b[1;32mc:\\Program Files\\Python311\\Lib\\importlib\\__init__.py:126\u001b[0m, in \u001b[0;36mimport_module\u001b[1;34m(name, package)\u001b[0m\n\u001b[0;32m    125\u001b[0m         level \u001b[38;5;241m+\u001b[39m\u001b[38;5;241m=\u001b[39m \u001b[38;5;241m1\u001b[39m\n\u001b[1;32m--> 126\u001b[0m \u001b[38;5;28;01mreturn\u001b[39;00m \u001b[43m_bootstrap\u001b[49m\u001b[38;5;241;43m.\u001b[39;49m\u001b[43m_gcd_import\u001b[49m\u001b[43m(\u001b[49m\u001b[43mname\u001b[49m\u001b[43m[\u001b[49m\u001b[43mlevel\u001b[49m\u001b[43m:\u001b[49m\u001b[43m]\u001b[49m\u001b[43m,\u001b[49m\u001b[43m \u001b[49m\u001b[43mpackage\u001b[49m\u001b[43m,\u001b[49m\u001b[43m \u001b[49m\u001b[43mlevel\u001b[49m\u001b[43m)\u001b[49m\n",
      "File \u001b[1;32m<frozen importlib._bootstrap>:1204\u001b[0m, in \u001b[0;36m_gcd_import\u001b[1;34m(name, package, level)\u001b[0m\n",
      "File \u001b[1;32m<frozen importlib._bootstrap>:1176\u001b[0m, in \u001b[0;36m_find_and_load\u001b[1;34m(name, import_)\u001b[0m\n",
      "File \u001b[1;32m<frozen importlib._bootstrap>:1140\u001b[0m, in \u001b[0;36m_find_and_load_unlocked\u001b[1;34m(name, import_)\u001b[0m\n",
      "\u001b[1;31mModuleNotFoundError\u001b[0m: No module named 'pyxlsb'",
      "\nDuring handling of the above exception, another exception occurred:\n",
      "\u001b[1;31mImportError\u001b[0m                               Traceback (most recent call last)",
      "Cell \u001b[1;32mIn[9], line 9\u001b[0m\n\u001b[0;32m      7\u001b[0m \u001b[38;5;66;03m# Example usage\u001b[39;00m\n\u001b[0;32m      8\u001b[0m folder_path \u001b[38;5;241m=\u001b[39m \u001b[38;5;124m'\u001b[39m\u001b[38;5;124mRead_Y5\u001b[39m\u001b[38;5;124m'\u001b[39m\n\u001b[1;32m----> 9\u001b[0m \u001b[43mprint_file_names\u001b[49m\u001b[43m(\u001b[49m\u001b[43mfolder_path\u001b[49m\u001b[43m)\u001b[49m\n",
      "Cell \u001b[1;32mIn[9], line 5\u001b[0m, in \u001b[0;36mprint_file_names\u001b[1;34m(folder_path)\u001b[0m\n\u001b[0;32m      3\u001b[0m \u001b[38;5;28mprint\u001b[39m(filename)\n\u001b[0;32m      4\u001b[0m file_path\u001b[38;5;241m=\u001b[39m (folder_path \u001b[38;5;241m+\u001b[39m \u001b[38;5;124m\"\u001b[39m\u001b[38;5;124m//\u001b[39m\u001b[38;5;124m\"\u001b[39m \u001b[38;5;241m+\u001b[39m filename)\n\u001b[1;32m----> 5\u001b[0m \u001b[43mget_excel_values\u001b[49m\u001b[43m(\u001b[49m\u001b[43mfile_path\u001b[49m\u001b[43m)\u001b[49m\n",
      "Cell \u001b[1;32mIn[1], line 2\u001b[0m, in \u001b[0;36mget_excel_values\u001b[1;34m(filename)\u001b[0m\n\u001b[0;32m      1\u001b[0m \u001b[38;5;28;01mdef\u001b[39;00m \u001b[38;5;21mget_excel_values\u001b[39m(filename):\n\u001b[1;32m----> 2\u001b[0m     df \u001b[38;5;241m=\u001b[39m \u001b[43mpd\u001b[49m\u001b[38;5;241;43m.\u001b[39;49m\u001b[43mread_excel\u001b[49m\u001b[43m(\u001b[49m\u001b[43mfilename\u001b[49m\u001b[43m,\u001b[49m\u001b[43m \u001b[49m\u001b[43msheet_name\u001b[49m\u001b[38;5;241;43m=\u001b[39;49m\u001b[43m \u001b[49m\u001b[38;5;124;43m'\u001b[39;49m\u001b[38;5;124;43mD_Board Declaration Form\u001b[39;49m\u001b[38;5;124;43m'\u001b[39;49m\u001b[43m)\u001b[49m\n\u001b[0;32m      3\u001b[0m     values\u001b[38;5;241m=\u001b[39m []\n\u001b[0;32m      4\u001b[0m     values\u001b[38;5;241m.\u001b[39mappend(df\u001b[38;5;241m.\u001b[39miloc[\u001b[38;5;241m5\u001b[39m][\u001b[38;5;241m2\u001b[39m])\n",
      "File \u001b[1;32mc:\\Program Files\\Python311\\Lib\\site-packages\\pandas\\io\\excel\\_base.py:495\u001b[0m, in \u001b[0;36mread_excel\u001b[1;34m(io, sheet_name, header, names, index_col, usecols, dtype, engine, converters, true_values, false_values, skiprows, nrows, na_values, keep_default_na, na_filter, verbose, parse_dates, date_parser, date_format, thousands, decimal, comment, skipfooter, storage_options, dtype_backend, engine_kwargs)\u001b[0m\n\u001b[0;32m    493\u001b[0m \u001b[38;5;28;01mif\u001b[39;00m \u001b[38;5;129;01mnot\u001b[39;00m \u001b[38;5;28misinstance\u001b[39m(io, ExcelFile):\n\u001b[0;32m    494\u001b[0m     should_close \u001b[38;5;241m=\u001b[39m \u001b[38;5;28;01mTrue\u001b[39;00m\n\u001b[1;32m--> 495\u001b[0m     io \u001b[38;5;241m=\u001b[39m \u001b[43mExcelFile\u001b[49m\u001b[43m(\u001b[49m\n\u001b[0;32m    496\u001b[0m \u001b[43m        \u001b[49m\u001b[43mio\u001b[49m\u001b[43m,\u001b[49m\n\u001b[0;32m    497\u001b[0m \u001b[43m        \u001b[49m\u001b[43mstorage_options\u001b[49m\u001b[38;5;241;43m=\u001b[39;49m\u001b[43mstorage_options\u001b[49m\u001b[43m,\u001b[49m\n\u001b[0;32m    498\u001b[0m \u001b[43m        \u001b[49m\u001b[43mengine\u001b[49m\u001b[38;5;241;43m=\u001b[39;49m\u001b[43mengine\u001b[49m\u001b[43m,\u001b[49m\n\u001b[0;32m    499\u001b[0m \u001b[43m        \u001b[49m\u001b[43mengine_kwargs\u001b[49m\u001b[38;5;241;43m=\u001b[39;49m\u001b[43mengine_kwargs\u001b[49m\u001b[43m,\u001b[49m\n\u001b[0;32m    500\u001b[0m \u001b[43m    \u001b[49m\u001b[43m)\u001b[49m\n\u001b[0;32m    501\u001b[0m \u001b[38;5;28;01melif\u001b[39;00m engine \u001b[38;5;129;01mand\u001b[39;00m engine \u001b[38;5;241m!=\u001b[39m io\u001b[38;5;241m.\u001b[39mengine:\n\u001b[0;32m    502\u001b[0m     \u001b[38;5;28;01mraise\u001b[39;00m \u001b[38;5;167;01mValueError\u001b[39;00m(\n\u001b[0;32m    503\u001b[0m         \u001b[38;5;124m\"\u001b[39m\u001b[38;5;124mEngine should not be specified when passing \u001b[39m\u001b[38;5;124m\"\u001b[39m\n\u001b[0;32m    504\u001b[0m         \u001b[38;5;124m\"\u001b[39m\u001b[38;5;124man ExcelFile - ExcelFile already has the engine set\u001b[39m\u001b[38;5;124m\"\u001b[39m\n\u001b[0;32m    505\u001b[0m     )\n",
      "File \u001b[1;32mc:\\Program Files\\Python311\\Lib\\site-packages\\pandas\\io\\excel\\_base.py:1567\u001b[0m, in \u001b[0;36mExcelFile.__init__\u001b[1;34m(self, path_or_buffer, engine, storage_options, engine_kwargs)\u001b[0m\n\u001b[0;32m   1564\u001b[0m \u001b[38;5;28mself\u001b[39m\u001b[38;5;241m.\u001b[39mengine \u001b[38;5;241m=\u001b[39m engine\n\u001b[0;32m   1565\u001b[0m \u001b[38;5;28mself\u001b[39m\u001b[38;5;241m.\u001b[39mstorage_options \u001b[38;5;241m=\u001b[39m storage_options\n\u001b[1;32m-> 1567\u001b[0m \u001b[38;5;28mself\u001b[39m\u001b[38;5;241m.\u001b[39m_reader \u001b[38;5;241m=\u001b[39m \u001b[38;5;28;43mself\u001b[39;49m\u001b[38;5;241;43m.\u001b[39;49m\u001b[43m_engines\u001b[49m\u001b[43m[\u001b[49m\u001b[43mengine\u001b[49m\u001b[43m]\u001b[49m\u001b[43m(\u001b[49m\n\u001b[0;32m   1568\u001b[0m \u001b[43m    \u001b[49m\u001b[38;5;28;43mself\u001b[39;49m\u001b[38;5;241;43m.\u001b[39;49m\u001b[43m_io\u001b[49m\u001b[43m,\u001b[49m\n\u001b[0;32m   1569\u001b[0m \u001b[43m    \u001b[49m\u001b[43mstorage_options\u001b[49m\u001b[38;5;241;43m=\u001b[39;49m\u001b[43mstorage_options\u001b[49m\u001b[43m,\u001b[49m\n\u001b[0;32m   1570\u001b[0m \u001b[43m    \u001b[49m\u001b[43mengine_kwargs\u001b[49m\u001b[38;5;241;43m=\u001b[39;49m\u001b[43mengine_kwargs\u001b[49m\u001b[43m,\u001b[49m\n\u001b[0;32m   1571\u001b[0m \u001b[43m\u001b[49m\u001b[43m)\u001b[49m\n",
      "File \u001b[1;32mc:\\Program Files\\Python311\\Lib\\site-packages\\pandas\\io\\excel\\_pyxlsb.py:43\u001b[0m, in \u001b[0;36mPyxlsbReader.__init__\u001b[1;34m(self, filepath_or_buffer, storage_options, engine_kwargs)\u001b[0m\n\u001b[0;32m     25\u001b[0m \u001b[38;5;129m@doc\u001b[39m(storage_options\u001b[38;5;241m=\u001b[39m_shared_docs[\u001b[38;5;124m\"\u001b[39m\u001b[38;5;124mstorage_options\u001b[39m\u001b[38;5;124m\"\u001b[39m])\n\u001b[0;32m     26\u001b[0m \u001b[38;5;28;01mdef\u001b[39;00m \u001b[38;5;21m__init__\u001b[39m(\n\u001b[0;32m     27\u001b[0m     \u001b[38;5;28mself\u001b[39m,\n\u001b[1;32m   (...)\u001b[0m\n\u001b[0;32m     30\u001b[0m     engine_kwargs: \u001b[38;5;28mdict\u001b[39m \u001b[38;5;241m|\u001b[39m \u001b[38;5;28;01mNone\u001b[39;00m \u001b[38;5;241m=\u001b[39m \u001b[38;5;28;01mNone\u001b[39;00m,\n\u001b[0;32m     31\u001b[0m ) \u001b[38;5;241m-\u001b[39m\u001b[38;5;241m>\u001b[39m \u001b[38;5;28;01mNone\u001b[39;00m:\n\u001b[0;32m     32\u001b[0m \u001b[38;5;250m    \u001b[39m\u001b[38;5;124;03m\"\"\"\u001b[39;00m\n\u001b[0;32m     33\u001b[0m \u001b[38;5;124;03m    Reader using pyxlsb engine.\u001b[39;00m\n\u001b[0;32m     34\u001b[0m \n\u001b[1;32m   (...)\u001b[0m\n\u001b[0;32m     41\u001b[0m \u001b[38;5;124;03m        Arbitrary keyword arguments passed to excel engine.\u001b[39;00m\n\u001b[0;32m     42\u001b[0m \u001b[38;5;124;03m    \"\"\"\u001b[39;00m\n\u001b[1;32m---> 43\u001b[0m     \u001b[43mimport_optional_dependency\u001b[49m\u001b[43m(\u001b[49m\u001b[38;5;124;43m\"\u001b[39;49m\u001b[38;5;124;43mpyxlsb\u001b[39;49m\u001b[38;5;124;43m\"\u001b[39;49m\u001b[43m)\u001b[49m\n\u001b[0;32m     44\u001b[0m     \u001b[38;5;66;03m# This will call load_workbook on the filepath or buffer\u001b[39;00m\n\u001b[0;32m     45\u001b[0m     \u001b[38;5;66;03m# And set the result to the book-attribute\u001b[39;00m\n\u001b[0;32m     46\u001b[0m     \u001b[38;5;28msuper\u001b[39m()\u001b[38;5;241m.\u001b[39m\u001b[38;5;21m__init__\u001b[39m(\n\u001b[0;32m     47\u001b[0m         filepath_or_buffer,\n\u001b[0;32m     48\u001b[0m         storage_options\u001b[38;5;241m=\u001b[39mstorage_options,\n\u001b[0;32m     49\u001b[0m         engine_kwargs\u001b[38;5;241m=\u001b[39mengine_kwargs,\n\u001b[0;32m     50\u001b[0m     )\n",
      "File \u001b[1;32mc:\\Program Files\\Python311\\Lib\\site-packages\\pandas\\compat\\_optional.py:138\u001b[0m, in \u001b[0;36mimport_optional_dependency\u001b[1;34m(name, extra, errors, min_version)\u001b[0m\n\u001b[0;32m    136\u001b[0m \u001b[38;5;28;01mexcept\u001b[39;00m \u001b[38;5;167;01mImportError\u001b[39;00m:\n\u001b[0;32m    137\u001b[0m     \u001b[38;5;28;01mif\u001b[39;00m errors \u001b[38;5;241m==\u001b[39m \u001b[38;5;124m\"\u001b[39m\u001b[38;5;124mraise\u001b[39m\u001b[38;5;124m\"\u001b[39m:\n\u001b[1;32m--> 138\u001b[0m         \u001b[38;5;28;01mraise\u001b[39;00m \u001b[38;5;167;01mImportError\u001b[39;00m(msg)\n\u001b[0;32m    139\u001b[0m     \u001b[38;5;28;01mreturn\u001b[39;00m \u001b[38;5;28;01mNone\u001b[39;00m\n\u001b[0;32m    141\u001b[0m \u001b[38;5;66;03m# Handle submodules: if we have submodule, grab parent module from sys.modules\u001b[39;00m\n",
      "\u001b[1;31mImportError\u001b[0m: Missing optional dependency 'pyxlsb'.  Use pip or conda to install pyxlsb."
     ]
    }
   ],
   "source": [
    "\n",
    "\n",
    "\n",
    "def print_file_names(folder_path):\n",
    "    for filename in os.listdir(folder_path):\n",
    "        print(filename)\n",
    "        file_path= (folder_path + \"//\" + filename)\n",
    "        get_excel_values(file_path)\n",
    "\n",
    "# Example usage\n",
    "folder_path = 'Read_Y5'\n",
    "print_file_names(folder_path)\n"
   ]
  },
  {
   "cell_type": "code",
   "execution_count": 19,
   "metadata": {},
   "outputs": [],
   "source": [
    "folder_list=[]"
   ]
  },
  {
   "cell_type": "code",
   "execution_count": 20,
   "metadata": {},
   "outputs": [],
   "source": [
    "\n",
    "import os\n",
    "\n",
    "def print_file_names(folder_path):\n",
    "    for filename in os.listdir(folder_path):\n",
    "        folder_list.append(filename)\n",
    "       \n",
    "\n",
    "# Example usage\n",
    "folder_path = 'Read_Y5'\n",
    "print_file_names(folder_path)\n"
   ]
  },
  {
   "cell_type": "code",
   "execution_count": 21,
   "metadata": {},
   "outputs": [
    {
     "data": {
      "text/plain": [
       "['F001.xlsx',\n",
       " 'T011.xlsx',\n",
       " 'T013.xlsx',\n",
       " 'T014.xlsx',\n",
       " 'T016.xlsx',\n",
       " 'T020.xlsx',\n",
       " 'T022.xlsx',\n",
       " 'T028.xlsx',\n",
       " 'T029.xlsx',\n",
       " 'T035.xlsx',\n",
       " 'T050.xlsx',\n",
       " 'T066.xlsx',\n",
       " 'T068.xlsx',\n",
       " 'T074.xlsx',\n",
       " 'T075.xlsx',\n",
       " 'T076.xlsx',\n",
       " 'T091.xlsx',\n",
       " 'T096.xlsx',\n",
       " 'T099.xlsx',\n",
       " 'T100.xlsx',\n",
       " 'T106.xlsx',\n",
       " 'T114.xlsx',\n",
       " 'T123.xlsx',\n",
       " 'T139.xlsx',\n",
       " 'T145.xlsx',\n",
       " 'T150.xlsx',\n",
       " 'T164.xlsx',\n",
       " 'T173.xlsx',\n",
       " 'T177.xlsx',\n",
       " 'T178.xlsx',\n",
       " 'T184.xlsx',\n",
       " 'T199.xlsx',\n",
       " 'T205.xlsx',\n",
       " 'T213.xlsx',\n",
       " 'T217.xlsx',\n",
       " 'T221.xlsx',\n",
       " 'T235.xlsx',\n",
       " 'T236.xlsx',\n",
       " 'T246.xlsx',\n",
       " 'T249.xlsx',\n",
       " 'T250.xlsx',\n",
       " 'T262.xlsx',\n",
       " 'T264.xlsx',\n",
       " 'T267.xlsx',\n",
       " 'T277.xlsx',\n",
       " 'T285.xlsx',\n",
       " 'T301.xlsx',\n",
       " 'T309.xlsx',\n",
       " 'T318.xlsx',\n",
       " 'T320.xlsx',\n",
       " 'T321.xlsx',\n",
       " 'T331.xlsx',\n",
       " 'T332.xlsx',\n",
       " 'T339.xlsx',\n",
       " 'T350.xlsx',\n",
       " 'T351.xlsx',\n",
       " 'T359.xlsx',\n",
       " 'T362.xlsx',\n",
       " 'T383.xlsx',\n",
       " 'T389.xlsx',\n",
       " 'T393.xlsx',\n",
       " 'T398.xlsx',\n",
       " 'T411.xlsx',\n",
       " 'T422.xlsx',\n",
       " 'T455.xlsx',\n",
       " 'T456.xlsx',\n",
       " 'T457.xlsx',\n",
       " 'T460.xlsx',\n",
       " 'T462.xlsx',\n",
       " 'T463.xlsx',\n",
       " 'T466.xlsx',\n",
       " 'T467.xlsx',\n",
       " 'T468.xlsx',\n",
       " 'T487.xlsx',\n",
       " 'T489.xlsx',\n",
       " 'T491.xlsx',\n",
       " 'T492.xlsx',\n",
       " 'T504.xlsx',\n",
       " 'T521.xlsx',\n",
       " 'T541.xlsx',\n",
       " 'T554.xlsx',\n",
       " 'T559.xlsx',\n",
       " 'T562.xlsx',\n",
       " 'T564.xlsx',\n",
       " 'T565.xlsx',\n",
       " 'T567.xlsx',\n",
       " 'T569.xlsx',\n",
       " 'T571.xlsb',\n",
       " 'T572.xlsx',\n",
       " 'T575.xlsx',\n",
       " 'T578.xlsx',\n",
       " 'T581.xlsx',\n",
       " 'T586.xlsx',\n",
       " 'T587.xlsx',\n",
       " 'T588.xlsx',\n",
       " 'T600.xlsx',\n",
       " 'T601.xlsx',\n",
       " 'T603.xlsx',\n",
       " 'T619.xlsx',\n",
       " 'T621.xlsx',\n",
       " 'T632.xlsx',\n",
       " 'T633.xlsx',\n",
       " 'T636.xlsx',\n",
       " 'T638.xlsx',\n",
       " 'T644.xlsx',\n",
       " 'T645.xlsx',\n",
       " 'T650.xlsb',\n",
       " 'T654.xlsx',\n",
       " 'T670.xlsx',\n",
       " 'T673.xlsx',\n",
       " 'T679.xlsx',\n",
       " 'T680.xlsx',\n",
       " 'T682.xlsx',\n",
       " 'T683.xlsx',\n",
       " 'T684.xlsx',\n",
       " 'T687.xlsx',\n",
       " 'T688.xlsx',\n",
       " 'T690  .xlsx',\n",
       " 'T691.xlsx',\n",
       " 'T694.xlsx']"
      ]
     },
     "execution_count": 21,
     "metadata": {},
     "output_type": "execute_result"
    }
   ],
   "source": [
    "folder_list"
   ]
  },
  {
   "cell_type": "code",
   "execution_count": 22,
   "metadata": {},
   "outputs": [],
   "source": [
    "df_listorg = pd.DataFrame(data= folder_list)"
   ]
  },
  {
   "cell_type": "code",
   "execution_count": 24,
   "metadata": {},
   "outputs": [],
   "source": [
    "df_listorg.to_csv('year5list.csv')"
   ]
  },
  {
   "cell_type": "code",
   "execution_count": 6,
   "metadata": {},
   "outputs": [
    {
     "name": "stdout",
     "output_type": "stream",
     "text": [
      "[['F001', 'Hampshire Hospitals NHS Foundation Trust ', 'Yes', 'Yes', 'Yes', 'Yes', 'Yes', 'Yes', 'Yes', 'Yes', 'Yes', 'Yes', nan, nan, nan, nan, nan, nan, nan, nan, nan, nan, 0, 0, 0, 0, 0, 0, 0, 0, 0, 0], ['T011', 'The Norfolk and Norwich University Hospitals NHS Foundation Trust', 'Yes', 'Yes', 'Yes', 'Yes', 'Yes', 'Yes', 'Yes', 'Yes', 'Yes', 'Yes', nan, nan, nan, nan, nan, nan, nan, nan, nan, nan, 0, 0, 0, 0, 0, 0, 0, 0, 0, 0], ['T013', 'University Hospitals Coventry and Warwickshire NHS Trust', 'Yes', 'Yes', 'Yes', 'Yes', 'Yes', 'Yes', 'Yes', 'Yes', 'Yes', 'Yes', nan, nan, nan, nan, nan, nan, nan, nan, nan, nan, 0, 0, 0, 0, 0, 0, 0, 0, 0, 0], ['T014', 'George Eliot Hospital NHS Trust', 'Yes', 'Yes', 'Yes', 'Yes', 'Yes', 'Yes', 'Yes', 'Yes', 'Yes', 'Yes', nan, nan, nan, nan, nan, nan, nan, nan, nan, nan, 0, 0, 0, 0, 0, 0, 0, 0, 0, 0], ['T016', 'University Hospital of North Midlands NHS Trust', 'Yes', 'Yes', 'Yes', 'Yes', 'Yes', 'Yes', 'Yes', 'Yes', 'Yes', 'Yes', nan, nan, nan, nan, nan, nan, nan, nan, nan, nan, 0, 0, 0, 0, 0, 0, 0, 0, 0, 0], ['T020', 'South Warwickshire NHS Foundation Trust', 'Yes', 'Yes', 'Yes', 'Yes', 'Yes', 'Yes', 'Yes', 'Yes', 'Yes', 'Yes', nan, nan, nan, nan, nan, nan, nan, nan, nan, nan, 0, 0, 0, 0, 0, 0, 0, 0, 0, 0], ['T022', 'Cambridge University Hospitals NHS Foundation Trust', 'Yes', 'Yes', 'Yes', 'Yes', 'Yes', 'Yes', 'Yes', 'Yes', 'Yes', 'Yes', nan, nan, nan, nan, nan, nan, nan, nan, nan, nan, 0, 0, 0, 0, 0, 0, 0, 0, 0, 0], ['T028', 'West Suffolk NHS Foundation Trust', 'Yes', 'Yes', 'Yes', 'Yes', 'Yes', 'Yes', 'Yes', 'Yes', 'Yes', 'Yes', nan, nan, nan, nan, nan, nan, nan, nan, nan, nan, 0, 0, 0, 0, 0, 0, 0, 0, 0, 0], ['T029', 'Portsmouth Hospitals NHS Trust', 'Yes', 'Yes', 'Yes', 'Yes', 'Yes', 'Yes', 'Yes', 'Yes', 'Yes', 'Yes', nan, nan, nan, nan, nan, nan, nan, nan, nan, nan, 0, 0, 0, 0, 0, 0, 0, 0, 0, 0], ['T035', 'Medway NHS Foundation Trust', 'Yes', 'Yes', 'Yes', 'Yes', 'Yes', 'Yes', 'Yes', 'Yes', 'Yes', 'Yes', nan, nan, nan, nan, nan, nan, nan, nan, nan, nan, 0, 0, 0, 0, 0, 0, 0, 0, 0, 0], ['T050', 'Tameside and Glossop Integrated Care NHS Foundation Trust', 'Yes', 'Yes', 'Yes', 'Yes', 'Yes', 'Yes', 'Yes', 'Yes', 'Yes', 'Yes', nan, nan, nan, nan, 'Yes', nan, nan, nan, nan, nan, 0, 0, 0, 0, 0, 0, 0, 0, 0, 0], ['T066', 'Northern Care Alliance NHS Foundation Trust', 'Yes', 'Yes', 'Yes', 'Yes', 'Yes', 'Yes', 'Yes', 'Yes', 'Yes', 'Yes', nan, nan, nan, nan, nan, nan, nan, nan, nan, nan, 0, 0, 0, 0, 0, 0, 0, 0, 0, 0], ['T068', 'Northampton General Hospital NHS Trust', 'Yes', 'Yes', 'Yes', 'Yes', 'Yes', 'No', 'Yes', 'No', 'Yes', 'Yes', nan, nan, nan, nan, nan, 'Yes', nan, 'Yes', nan, nan, 0, 0, 0, 0, 0, 240168, 0, 59663, 0, 0], ['T074', 'Royal Devon University Healthcare NHS Foundation Trust', 'No', 'Yes', 'Yes', 'Yes', 'Yes', 'Yes', 'Yes', 'Yes', 'No', 'Yes', 'Yes', nan, nan, nan, nan, nan, nan, nan, 'Yes', nan, 83585, 0, 0, 0, 0, 0, 0, 0, 102071, 0], ['T075', 'University Hospital Southampton NHS Foundation Trust ', 'Yes', 'Yes', 'Yes', 'Yes', 'Yes', 'Yes', 'Yes', 'Yes', 'Yes', 'Yes', 'Yes', nan, nan, 'Yes', nan, nan, nan, 'Yes', nan, nan, 0, 0, 0, 0, 0, 0, 0, 0, 0, 0], ['T076', 'University Hospitals Bristol NHS Foundation Trust', 'Yes', 'Yes', 'Yes', 'Yes', 'Yes', 'Yes', 'Yes', 'Yes', 'Yes', 'Yes', nan, nan, nan, nan, nan, nan, nan, nan, nan, nan, 0, 0, 0, 0, 0, 0, 0, 0, 0, 0], ['T091', 'Homerton Healthcare NHS Foundation Trust', 'Yes', 'Yes', 'No', 'Yes', 'Yes', 'No', 'No', 'No', 'No', 'Yes', nan, nan, 'Yes', nan, nan, 'Yes', 'Yes', 'Yes', 'Yes', nan, 0, 0, 74603, 0, 0, 354411, 68189, 143775, 38674, 0], ['T096', 'North Middlesex University Hospital NHS Trust', 'No', 'Yes', 'Yes', 'Yes', 'Yes', 'Yes', 'Yes', 'Yes', 'Yes', 'No', 'Yes', nan, nan, nan, nan, nan, nan, nan, nan, 'Yes', 401240, 0, 0, 0, 0, 0, 0, 0, 0, 334000], ['T099', 'Walsall Healthcare NHS Trust', 'Yes', 'Yes', 'Yes', 'Yes', 'Yes', 'Yes', 'Yes', 'Yes', 'Yes', 'Yes', nan, nan, nan, nan, nan, nan, nan, nan, nan, nan, 0, 0, 0, 0, 0, 0, 0, 0, 0, 0], ['T100', 'Bedfordshire Hospitals NHS Foundation Trust ', 'Yes', 'Yes', 'Yes', 'Yes', 'Yes', 'Yes', 'Yes', 'Yes', 'Yes', 'Yes', nan, nan, nan, nan, nan, nan, nan, nan, nan, nan, 0, 0, 0, 0, 0, 0, 0, 0, 0, 0], ['T106', 'Royal Berkshire NHS Foundation Trust', 'No', 'Yes', 'Yes', 'Yes', 'Yes', 'Yes', 'Yes', 'Yes', 'Yes', 'Yes', 'Yes', nan, nan, nan, nan, nan, nan, nan, nan, nan, 0, 0, 0, 0, 0, 0, 0, 0, 0, 0], ['T114', 'South Tees Hospitals NHS Foundation Trust', 'Yes', 'Yes', 'Yes', 'Yes', 'Yes', 'Yes', 'Yes', 'Yes', 'Yes', 'Yes', nan, nan, nan, nan, nan, nan, nan, nan, nan, nan, 0, 0, 0, 0, 0, 0, 0, 0, 0, 0], ['T123', 'Airedale NHS Foundation Trust', 'Yes', 'Yes', 'Yes', 'Yes', 'Yes', 'Yes', 'Yes', 'Yes', 'Yes', 'Yes', nan, nan, nan, nan, nan, nan, nan, nan, nan, nan, 0, 0, 0, 0, 0, 0, 0, 0, 0, 0], ['T139', 'Dartford and Gravesham NHS Trust', 'Yes', 'Yes', 'Yes', 'Yes', 'Yes', 'Yes', 'Yes', 'Yes', 'Yes', 'Yes', nan, nan, nan, nan, nan, nan, nan, nan, nan, nan, 0, 0, 0, 0, 0, 0, 0, 0, 0, 0], ['T145', 'Wye Valley NHS Trust', 'Yes', 'Yes', 'Yes', 'Yes', 'Yes', 'Yes', 'Yes', 'Yes', 'Yes', 'Yes', nan, nan, nan, nan, nan, nan, nan, nan, nan, nan, 0, 0, 0, 0, 0, 0, 0, 0, 0, 0], ['T150', 'Frimley Health NHS Foundation Trust', 'Yes', 'Yes', 'Yes', 'Yes', 'Yes', 'Yes', 'Yes', 'Yes', 'Yes', 'Yes', nan, nan, nan, nan, nan, nan, nan, nan, nan, nan, 0, 0, 0, 0, 0, 0, 0, 0, 0, 0], ['T164', 'Milton Keynes Hospital NHS Foundation Trust', 'Yes', 'Yes', 'Yes', 'Yes', 'Yes', 'Yes', 'Yes', 'Yes', 'Yes', 'Yes', nan, nan, nan, nan, nan, nan, nan, nan, nan, nan, 0, 0, 0, 0, 0, 0, 0, 0, 0, 0], ['T173', 'Torbay & South Devon NHS Foundation Trust', 'Yes', 'Yes', 'Yes', 'Yes', 'Yes', 'Yes', 'Yes', 'Yes', 'Yes', 'Yes', nan, nan, nan, nan, nan, nan, nan, nan, nan, nan, 0, 0, 0, 0, 0, 0, 0, 0, 0, 0], ['T177', 'Mid and South Essex NHS Foundation Trust\\xa0', 'Yes', 'Yes', 'Yes', 'Yes', 'Yes', 'Yes', 'Yes', 'Yes', 'Yes', 'Yes', nan, nan, nan, nan, nan, nan, nan, nan, nan, nan, 0, 0, 0, 0, 0, 0, 0, 0, 0, 0], ['T178', 'Mid Cheshire Hospitals NHS Foundation Trust', 'Yes', 'Yes', 'Yes', 'Yes', 'Yes', 'Yes', 'Yes', 'Yes', 'Yes', 'Yes', nan, nan, nan, nan, nan, nan, nan, nan, nan, nan, 0, 0, 0, 0, 0, 0, 0, 0, 0, 0], ['T184', 'Kettering General Hospital NHS Foundation Trust', 'Yes', 'Yes', 'No', 'Yes', 'Yes', 'No', 'Yes', 'Yes', 'Yes', 'Yes', nan, nan, 'Yes', nan, nan, 'Yes', nan, nan, nan, nan, 0, 0, 0, 0, 0, 144491, 0, 0, 0, 0], ['T199', 'Rotherham NHS Foundation Trust', 'Yes', 'Yes', 'Yes', 'Yes', 'Yes', 'Yes', 'Yes', 'Yes', 'Yes', 'Yes', nan, nan, nan, nan, nan, nan, nan, nan, nan, nan, 0, 0, 0, 0, 0, 0, 0, 0, 0, 0], ['T205', 'The Dudley Group NHS Foundation Trust', 'Yes', 'Yes', 'Yes', 'Yes', 'Yes', 'Yes', 'Yes', 'Yes', 'Yes', 'Yes', nan, nan, nan, nan, nan, nan, nan, nan, nan, nan, 0, 0, 0, 0, 0, 0, 0, 0, 0, 0], ['T213', 'St Helens and Knowsley Hospitals NHS Trust', 'Yes', 'Yes', 'Yes', 'Yes', 'Yes', 'Yes', 'Yes', 'Yes', 'Yes', 'Yes', nan, nan, nan, nan, nan, nan, nan, nan, nan, nan, 0, 0, 0, 0, 0, 0, 0, 0, 0, 0], ['T217', 'Plymouth Hospitals NHS Trust', 'Yes', 'Yes', 'Yes', 'Yes', 'Yes', 'No', 'Yes', 'No', 'Yes', 'Yes', nan, nan, nan, nan, nan, 'Yes', nan, 'Yes', nan, nan, 0, 0, 0, 0, 0, 200000, 0, 20000, 0, 0], ['T221', 'Whittington Hospital NHS Trust', 'Yes', 'Yes', 'Yes', 'Yes', 'Yes', 'Yes', 'Yes', 'Yes', 'Yes', 'Yes', nan, nan, nan, nan, nan, nan, nan, nan, nan, nan, 0, 0, 0, 0, 0, 0, 0, 0, 0, 0], ['T235', 'York Teaching Hospital NHS Foundation Trust', 'Yes', 'Yes', 'No', 'No', 'No', 'No', 'No', 'No', 'No', 'Yes', nan, nan, 'Yes', 'Yes', 'Yes', 'Yes', 'Yes', 'Yes', 'Yes', nan, 0, 0, 150000, 50000, 12000, 25000, 20000, 0, 15000, 0], ['T236', 'Dorset County Hospital NHS Foundation Trust', 'Yes', 'Yes', 'Yes', 'Yes', 'No', 'No', 'No', 'No', 'No', 'Yes', nan, nan, nan, nan, 'Yes', 'Yes', 'Yes', 'Yes', 'Yes', nan, 0, 0, 0, 0, 0, 93800, 0, 3750, 0, 0], ['T246', 'Great Western Hospitals NHS Foundation Trust', 'Yes', 'Yes', 'Yes', 'No', 'Yes', 'No', 'Yes', 'Yes', 'Yes', 'Yes', nan, nan, nan, 'Yes', nan, 'Yes', nan, nan, nan, nan, 0, 0, 0, 59000, 0, 66495, 0, 0, 0, 0], ['T249', 'Chesterfield Royal Hospital NHS Foundation Trust', 'No', 'Yes', 'No', 'No', 'No', 'Yes', 'Yes', 'Yes', 'Yes', 'Yes', 'Yes', nan, 'Yes', 'Yes', 'Yes', nan, nan, nan, nan, nan, 0, 0, 200800, 0, 0, 0, 0, 0, 0, 0], ['T250', 'Princess Alexandra Hospital NHS Trust', 'Yes', 'Yes', 'Yes', 'Yes', 'Yes', 'Yes', 'Yes', 'Yes', 'Yes', 'Yes', nan, nan, nan, nan, nan, nan, nan, nan, nan, nan, 0, 0, 0, 0, 0, 0, 0, 0, 0, 0], ['T262', 'James Paget University Hospitals NHS Foundation Trust', 'Yes', 'Yes', 'Yes', 'Yes', 'Yes', 'Yes', 'Yes', 'Yes', 'Yes', 'Yes', nan, nan, nan, nan, nan, nan, nan, nan, nan, nan, 0, 0, 0, 0, 0, 0, 0, 0, 0, 0], ['T264', 'Bolton NHS Foundation Trust', 'Yes', 'Yes', 'Yes', 'Yes', 'Yes', 'Yes', 'Yes', 'Yes', 'Yes', 'Yes', nan, nan, nan, nan, nan, nan, nan, nan, nan, nan, 0, 0, 0, 0, 0, 0, 0, 0, 0, 0], ['T267', 'Royal Cornwall Hospitals NHS Trust', 'Yes', 'Yes', 'Yes', 'Yes', 'Yes', 'Yes', 'Yes', 'Yes', 'Yes', 'Yes', 'Yes', nan, nan, 'Yes', nan, nan, nan, nan, nan, nan, 0, 0, 0, 0, 0, 0, 0, 0, 0, 0], ['T277', 'Croydon Health Services NHS Trust', 'Yes', 'Yes', 'Yes', 'Yes', 'Yes', 'Yes', 'Yes', 'Yes', 'Yes', 'Yes', nan, nan, nan, nan, nan, nan, nan, nan, nan, nan, 0, 0, 0, 0, 0, 0, 0, 0, 0, 0], ['T285', 'University College London Hospitals NHS Foundation Trust', 'Yes', 'Yes', 'Yes', 'Yes', 'Yes', 'Yes', 'Yes', 'Yes', 'Yes', 'Yes', nan, nan, nan, nan, nan, nan, nan, nan, nan, nan, 0, 0, 0, 0, 0, 0, 0, 0, 0, 0], ['T301', 'Hillingdon Hospitals NHS Foundation Trust', 'Yes', 'Yes', 'Yes', 'Yes', 'Yes', 'Yes', 'Yes', 'No', 'Yes', 'Yes', nan, nan, nan, nan, nan, nan, nan, 'Yes', nan, nan, 0, 0, 0, 0, 0, 0, 0, 200000, 0, 0], ['T309', 'Somerset Partnership NHS Foundation Trust', 'No', 'Yes', 'No', 'Yes', 'Yes', 'Yes', 'No', 'Yes', 'No', 'Yes', 'Yes', nan, 'Yes', nan, nan, nan, 'Yes', nan, 'Yes', nan, 0, 0, 175000, 0, 0, 0, 0, 0, 55000, 0], ['T318', 'Royal United Hospitals Bath NHS Foundation Trust', 'Yes', 'Yes', 'Yes', 'Yes', 'Yes', 'Yes', 'Yes', 'Yes', 'Yes', 'Yes', nan, nan, nan, nan, nan, nan, nan, nan, nan, nan, 0, 0, 0, 0, 0, 0, 0, 0, 0, 0], ['T320', \"Liverpool Women's NHS Foundation Trust\", 'No', 'Yes', 'Yes', 'Yes', 'Yes', 'Yes', 'Yes', 'Yes', 'Yes', 'Yes', 'Yes', nan, nan, nan, nan, nan, nan, nan, nan, nan, 0, 0, 0, 0, 0, 0, 0, 0, 0, 0], ['T321', 'Barnsley Hospital NHS Foundation Trust', 'Yes', 'Yes', 'Yes', 'Yes', 'Yes', 'Yes', 'Yes', 'Yes', 'Yes', 'Yes', nan, nan, nan, nan, nan, nan, nan, nan, nan, nan, 0, 0, 0, 0, 0, 0, 0, 0, 0, 0], ['T331', 'The Royal Free London NHS Foundation Trust', 'Yes', 'Yes', 'Yes', 'Yes', 'Yes', 'Yes', 'Yes', 'Yes', 'Yes', 'Yes', nan, nan, nan, nan, nan, nan, nan, nan, nan, nan, 0, 0, 0, 0, 0, 0, 0, 0, 0, 0], ['T332', 'Lewisham Healthcare NHS Trust', 'Yes', 'Yes', 'Yes', 'Yes', 'Yes', 'Yes', 'Yes', 'Yes', 'Yes', 'Yes', nan, nan, nan, nan, nan, nan, nan, nan, nan, nan, 0, 0, 0, 0, 0, 0, 0, 0, 0, 0], ['T339', 'Harrogate and District NHS Foundation Trust', 'Yes', 'Yes', 'Yes', 'Yes', 'Yes', 'Yes', 'Yes', 'Yes', 'Yes', 'Yes', 'Yes', nan, nan, 'Yes', nan, nan, nan, 'Yes', nan, nan, 0, 0, 0, 0, 0, 0, 0, 0, 0, 0], ['T350', 'Wirral University Teaching Hospital NHS Foundation Trust', 'Yes', 'Yes', 'Yes', 'Yes', 'Yes', 'Yes', 'Yes', 'Yes', 'Yes', 'Yes', nan, nan, nan, nan, nan, nan, nan, nan, nan, nan, 0, 0, 0, 0, 0, 0, 0, 0, 0, 0], ['T351', 'University Hospitals Birmingham NHS Foundation Trust', 'Yes', 'Yes', 'No', 'No', 'Yes', 'Yes', 'Yes', 'No', 'No', 'Yes', nan, nan, 'Yes', 'Yes', nan, nan, nan, 'Yes', 'Yes', nan, 0, 0, 277000, 60000, 0, 0, 0, 188000, 0, 0], ['T359', 'Royal Wolverhampton Hospitals NHS Trust', 'Yes', 'Yes', 'Yes', 'Yes', 'Yes', 'Yes', 'Yes', 'Yes', 'Yes', 'Yes', nan, nan, nan, nan, nan, nan, nan, nan, nan, nan, 0, 0, 0, 0, 0, 0, 0, 0, 0, 0], ['T362', \"Queen Elizabeth Hospital King's Lynn NHS Foundation Trust\", 'No', 'Yes', 'Yes', 'Yes', 'Yes', 'Yes', 'Yes', 'Yes', 'Yes', 'Yes', 'Yes', nan, nan, nan, nan, nan, nan, nan, nan, nan, 0, 0, 0, 0, 0, 0, 0, 0, 0, 0], ['T383', \"King's College Hospital NHS Foundation Trust\", 'No', 'Yes', 'Yes', 'Yes', 'No', 'No', 'Yes', 'No', 'Yes', 'Yes', 'Yes', nan, nan, nan, 'Yes', 'Yes', nan, 'Yes', nan, nan, 8580, 0, 0, 0, 154778, 215925.3, 0, 183992.2, 0, 0], ['T389', 'Bradford Teaching Hospitals NHS Foundation Trust', 'Yes', 'Yes', 'Yes', 'Yes', 'Yes', 'Yes', 'Yes', 'Yes', 'Yes', 'Yes', 'Yes', nan, nan, nan, nan, nan, nan, nan, nan, nan, 0, 0, 0, 0, 0, 0, 0, 0, 0, 0], ['T393', 'Royal Surrey County Hospital NHS Foundation Trust', 'Yes', 'Yes', 'Yes', 'Yes', 'Yes', 'Yes', 'Yes', 'Yes', 'Yes', 'Yes', nan, nan, nan, nan, nan, nan, nan, nan, nan, nan, 0, 0, 0, 0, 0, 0, 0, 0, 0, 0], ['T398', 'Salisbury NHS Foundation Trust', 'Yes', 'Yes', 'Yes', 'Yes', 'Yes', 'No', 'Yes', 'Yes', 'Yes', 'Yes', nan, nan, nan, nan, nan, 'Yes', nan, nan, nan, nan, 0, 0, 0, 0, 0, 127000, 0, 0, 0, 0], ['T411', 'Chelsea and Westminster Hospital NHS Foundation Trust', 'Yes', 'Yes', 'Yes', 'Yes', 'Yes', 'Yes', 'Yes', 'Yes', 'Yes', 'Yes', nan, nan, nan, nan, nan, nan, nan, nan, nan, nan, 0, 0, 0, 0, 0, 0, 0, 0, 0, 0], ['T422', 'Countess of Chester Hospital NHS Foundation Trust', 'Yes', 'Yes', 'Yes', 'Yes', 'Yes', 'Yes', 'Yes', 'Yes', 'Yes', 'Yes', nan, nan, nan, nan, nan, nan, nan, nan, nan, nan, 0, 0, 0, 0, 0, 0, 0, 0, 0, 0], ['T455', 'Leeds Teaching Hospitals NHS Trust', 'Yes', 'Yes', 'Yes', 'Yes', 'Yes', 'Yes', 'Yes', 'Yes', 'Yes', 'Yes', nan, nan, nan, nan, nan, nan, nan, nan, nan, nan, 0, 0, 0, 0, 0, 0, 0, 0, 0, 0], ['T456', 'Gateshead Health NHS Foundation Trust', 'Yes', 'Yes', 'Yes', 'Yes', 'Yes', 'Yes', 'Yes', 'Yes', 'Yes', 'Yes', nan, nan, nan, nan, nan, nan, nan, nan, nan, nan, 0, 0, 0, 0, 0, 0, 0, 0, 0, 0], ['T457', 'University Hospitals of Derby and Burton NHS Foundation Trust ', 'No', 'Yes', 'No', 'No', 'No', 'No', 'No', 'No', 'No', 'Yes', 'Yes', nan, 'Yes', 'Yes', 'Yes', 'Yes', 'Yes', 'Yes', 'Yes', nan, 52584, 0, 48470, 72134, 0, 168122, 0, 64054, 0, 0], ['T460', \"Ashford and St Peter's Hospitals NHS Foundation Trust\", 'Yes', 'Yes', 'Yes', 'Yes', 'Yes', 'Yes', 'Yes', 'Yes', 'Yes', 'Yes', nan, nan, nan, nan, nan, nan, nan, nan, nan, nan, 0, 0, 0, 0, 0, 0, 0, 0, 0, 0], ['T462', 'University Hospitals of Morecambe Bay NHS Foundation Trust', 'Yes', 'Yes', 'Yes', 'Yes', 'Yes', 'Yes', 'Yes', 'Yes', 'Yes', 'Yes', nan, nan, nan, nan, nan, nan, nan, nan, nan, nan, 0, 0, 0, 0, 0, 0, 0, 0, 0, 0], ['T463', 'County Durham and Darlington NHS Foundation Trust', 'No', 'Yes', 'No', 'Yes', 'No', 'Yes', 'Yes', 'Yes', 'No', 'Yes', 'Yes', nan, 'Yes', nan, 'Yes', nan, nan, nan, 'Yes', nan, 106123, 0, 52500, 0, 73792.24, 0, 0, 0, 0, 0], ['T466', 'Surrey and Sussex Healthcare NHS Trust', 'Yes', 'Yes', 'Yes', 'yes', 'No', 'No', 'yes', 'yes', 'No', 'yes', nan, nan, nan, nan, 'Yes', 'Yes', nan, nan, 'Yes', nan, 0, 0, 0, 0, 123822, 185733, 0, 0, 0, 0], ['T467', 'The Newcastle Upon Tyne Hospitals NHS Foundation Trust', 'Yes', 'Yes', 'Yes', 'Yes', 'Yes', 'No', 'Yes', 'No', 'Yes', 'Yes', nan, nan, nan, nan, nan, 'Yes', nan, 'Yes', nan, nan, 0, 0, 0, 0, 0, 63221, 0, 134287, 0, 0], ['T468', 'Northumbria Healthcare NHS Foundation Trust', 'Yes', 'Yes', 'Yes', 'Yes', 'Yes', 'Yes', 'Yes', 'Yes', 'Yes', 'Yes', nan, nan, nan, nan, nan, nan, nan, nan, nan, nan, 0, 0, 0, 0, 0, 0, 0, 0, 0, 0], ['T487', 'North Tees and Hartlepool NHS Foundation Trust', 'Yes', 'Yes', 'Yes', 'Yes', 'Yes', 'Yes', 'Yes', 'Yes', 'Yes', 'Yes', 'Yes', nan, nan, nan, nan, nan, nan, nan, nan, nan, 0, 0, 0, 0, 0, 0, 0, 0, 0, 0], ['T489', 'Epsom and St Helier University Hospitals NHS Trust', 'Yes', 'Yes', 'Yes', 'Yes', 'Yes', 'Yes', 'Yes', 'Yes', 'Yes', 'Yes', nan, nan, nan, nan, nan, nan, nan, nan, nan, nan, 0, 0, 0, 0, 0, 0, 0, 0, 0, 0], ['T491', 'East Kent Hospitals University NHS Foundation Trust', 'Yes', 'Yes', 'Yes', 'Yes', 'Yes', 'Yes', 'Yes', 'Yes', 'Yes', 'Yes', nan, nan, nan, 'Yes', nan, nan, nan, 'Yes', nan, nan, 0, 0, 0, 0, 0, 0, 0, 0, 0, 0], ['T492', 'North Bristol NHS Trust', 'Yes', 'Yes', 'Yes', 'Yes', 'Yes', 'Yes', 'Yes', 'Yes', 'Yes', 'Yes', nan, nan, nan, nan, nan, nan, nan, nan, nan, nan, 0, 0, 0, 0, 0, 0, 0, 0, 0, 0], ['T504', \"St George's University Hospitals NHS Foundation Trust\", 'Yes', 'Yes', 'Yes', 'Yes', 'Yes', 'Yes', 'Yes', 'Yes', 'Yes', 'Yes', nan, nan, nan, nan, 'Yes', nan, nan, nan, nan, nan, 0, 0, 0, 0, 0, 0, 0, 0, 0, 0], ['T521', 'Kingston Hospital NHS Foundation Trust', 'Yes', 'Yes', 'Yes', 'Yes', 'Yes', 'Yes', 'Yes', 'Yes', 'Yes', 'Yes', nan, nan, nan, nan, nan, nan, nan, nan, nan, nan, 0, 0, 0, 0, 0, 0, 0, 0, 0, 0], ['T541', \"Guy's and St Thomas' NHS Foundation Trust\", 'Yes', 'Yes', 'Yes', 'Yes', 'Yes', 'Yes', 'Yes', 'Yes', 'Yes', 'Yes', nan, nan, nan, nan, nan, nan, nan, nan, nan, nan, 0, 0, 0, 0, 0, 0, 0, 0, 0, 0], ['T554', 'Southport and Ormskirk Hospital NHS Trust', 'Yes', 'Yes', 'Yes', 'Yes', 'Yes', 'Yes', 'Yes', 'Yes', 'Yes', 'Yes', nan, nan, nan, nan, nan, nan, nan, nan, nan, nan, 0, 0, 0, 0, 0, 0, 0, 0, 0, 0], ['T559', 'Hull and East Yorkshire Hospitals NHS Trust', 'Yes', 'Yes', 'Yes', 'No', 'Yes', 'No', 'Yes', 'No', 'No', 'No', nan, nan, nan, 'Yes', nan, 'Yes', nan, 'Yes', 'Yes', 'Yes', 0, 0, 0, 0, 0, 110000, 0, 102262, 0, 0], ['T562', 'West Hertfordshire Hospitals NHS Trust', 'Yes', 'Yes', 'Yes', 'Yes', 'Yes', 'Yes', 'Yes', 'Yes', 'Yes', 'Yes', nan, nan, nan, nan, nan, nan, nan, nan, nan, nan, 0, 0, 0, 0, 0, 0, 0, 0, 0, 0], ['T564', 'University Hospitals of Leicester NHS Trust', 'Yes', 'Yes', 'Yes', 'Yes', 'Yes', 'Yes', 'Yes', 'Yes', 'Yes', 'Yes', nan, nan, nan, nan, nan, nan, nan, nan, nan, nan, 0, 0, 0, 0, 0, 0, 0, 0, 0, 0], ['T565', 'United Lincolnshire Hospitals NHS Trust', 'Yes', 'Yes', 'Yes', 'Yes', 'Yes', 'Yes', 'Yes', 'Yes', 'Yes', 'Yes', nan, nan, nan, nan, nan, nan, nan, nan, nan, nan, 0, 0, 0, 0, 0, 0, 0, 0, 0, 0], ['T567', 'Worcestershire Acute Hospitals NHS Trust', 'Yes', 'Yes', 'Yes', 'Yes', 'No', 'Yes', 'Yes', 'Yes', 'Yes', 'Yes', nan, nan, nan, nan, 'Yes', nan, nan, nan, nan, nan, 0, 0, 0, 0, 458719, 0, 0, 0, 0, 0], ['T569', 'East and North Hertfordshire NHS Trust', 'Yes', 'Yes', 'Yes', 'Yes', 'Yes', 'Yes', 'Yes', 'Yes', 'Yes', 'Yes', nan, nan, nan, nan, nan, nan, nan, nan, nan, nan, 0, 0, 0, 0, 0, 0, 0, 0, 0, 0]]\n"
     ]
    }
   ],
   "source": [
    "print(all_values)"
   ]
  },
  {
   "cell_type": "code",
   "execution_count": 11,
   "metadata": {},
   "outputs": [
    {
     "data": {
      "text/plain": [
       "116"
      ]
     },
     "execution_count": 11,
     "metadata": {},
     "output_type": "execute_result"
    }
   ],
   "source": [
    "len(all_values)"
   ]
  },
  {
   "cell_type": "code",
   "execution_count": 26,
   "metadata": {},
   "outputs": [
    {
     "name": "stdout",
     "output_type": "stream",
     "text": [
      "Yes\n"
     ]
    },
    {
     "name": "stderr",
     "output_type": "stream",
     "text": [
      "C:\\Users\\local_ShurlockT\\Temp\\ipykernel_23868\\647558972.py:1: FutureWarning: Series.__getitem__ treating keys as positions is deprecated. In a future version, integer keys will always be treated as labels (consistent with DataFrame behavior). To access a value by position, use `ser.iloc[pos]`\n",
      "  print(df.iloc[11][3])\n"
     ]
    }
   ],
   "source": [
    "print(df.iloc[11][3])"
   ]
  },
  {
   "cell_type": "code",
   "execution_count": 34,
   "metadata": {},
   "outputs": [
    {
     "name": "stderr",
     "output_type": "stream",
     "text": [
      "C:\\Users\\local_ShurlockT\\Temp\\ipykernel_23868\\3832884910.py:1: FutureWarning: Series.__getitem__ treating keys as positions is deprecated. In a future version, integer keys will always be treated as labels (consistent with DataFrame behavior). To access a value by position, use `ser.iloc[pos]`\n",
      "  Trust_code = df.iloc[5][2]\n",
      "C:\\Users\\local_ShurlockT\\Temp\\ipykernel_23868\\3832884910.py:2: FutureWarning: Series.__getitem__ treating keys as positions is deprecated. In a future version, integer keys will always be treated as labels (consistent with DataFrame behavior). To access a value by position, use `ser.iloc[pos]`\n",
      "  Trust_name = df.iloc[4][2]\n",
      "C:\\Users\\local_ShurlockT\\Temp\\ipykernel_23868\\3832884910.py:3: FutureWarning: Series.__getitem__ treating keys as positions is deprecated. In a future version, integer keys will always be treated as labels (consistent with DataFrame behavior). To access a value by position, use `ser.iloc[pos]`\n",
      "  SA1 = df.iloc[11][3]\n",
      "C:\\Users\\local_ShurlockT\\Temp\\ipykernel_23868\\3832884910.py:4: FutureWarning: Series.__getitem__ treating keys as positions is deprecated. In a future version, integer keys will always be treated as labels (consistent with DataFrame behavior). To access a value by position, use `ser.iloc[pos]`\n",
      "  SA2 = df.iloc[12][3]\n",
      "C:\\Users\\local_ShurlockT\\Temp\\ipykernel_23868\\3832884910.py:5: FutureWarning: Series.__getitem__ treating keys as positions is deprecated. In a future version, integer keys will always be treated as labels (consistent with DataFrame behavior). To access a value by position, use `ser.iloc[pos]`\n",
      "  SA3 = df.iloc[13][3]\n",
      "C:\\Users\\local_ShurlockT\\Temp\\ipykernel_23868\\3832884910.py:6: FutureWarning: Series.__getitem__ treating keys as positions is deprecated. In a future version, integer keys will always be treated as labels (consistent with DataFrame behavior). To access a value by position, use `ser.iloc[pos]`\n",
      "  SA4 = df.iloc[14][3]\n",
      "C:\\Users\\local_ShurlockT\\Temp\\ipykernel_23868\\3832884910.py:7: FutureWarning: Series.__getitem__ treating keys as positions is deprecated. In a future version, integer keys will always be treated as labels (consistent with DataFrame behavior). To access a value by position, use `ser.iloc[pos]`\n",
      "  SA5 = df.iloc[15][3]\n",
      "C:\\Users\\local_ShurlockT\\Temp\\ipykernel_23868\\3832884910.py:8: FutureWarning: Series.__getitem__ treating keys as positions is deprecated. In a future version, integer keys will always be treated as labels (consistent with DataFrame behavior). To access a value by position, use `ser.iloc[pos]`\n",
      "  SA6 = df.iloc[16][3]\n",
      "C:\\Users\\local_ShurlockT\\Temp\\ipykernel_23868\\3832884910.py:9: FutureWarning: Series.__getitem__ treating keys as positions is deprecated. In a future version, integer keys will always be treated as labels (consistent with DataFrame behavior). To access a value by position, use `ser.iloc[pos]`\n",
      "  SA7 = df.iloc[17][3]\n",
      "C:\\Users\\local_ShurlockT\\Temp\\ipykernel_23868\\3832884910.py:10: FutureWarning: Series.__getitem__ treating keys as positions is deprecated. In a future version, integer keys will always be treated as labels (consistent with DataFrame behavior). To access a value by position, use `ser.iloc[pos]`\n",
      "  SA8 = df.iloc[18][3]\n",
      "C:\\Users\\local_ShurlockT\\Temp\\ipykernel_23868\\3832884910.py:11: FutureWarning: Series.__getitem__ treating keys as positions is deprecated. In a future version, integer keys will always be treated as labels (consistent with DataFrame behavior). To access a value by position, use `ser.iloc[pos]`\n",
      "  SA9 = df.iloc[19][3]\n",
      "C:\\Users\\local_ShurlockT\\Temp\\ipykernel_23868\\3832884910.py:12: FutureWarning: Series.__getitem__ treating keys as positions is deprecated. In a future version, integer keys will always be treated as labels (consistent with DataFrame behavior). To access a value by position, use `ser.iloc[pos]`\n",
      "  SA10 = df.iloc[20][3]\n",
      "C:\\Users\\local_ShurlockT\\Temp\\ipykernel_23868\\3832884910.py:14: FutureWarning: Series.__getitem__ treating keys as positions is deprecated. In a future version, integer keys will always be treated as labels (consistent with DataFrame behavior). To access a value by position, use `ser.iloc[pos]`\n",
      "  SA1_AP = df.iloc[11][4]\n",
      "C:\\Users\\local_ShurlockT\\Temp\\ipykernel_23868\\3832884910.py:15: FutureWarning: Series.__getitem__ treating keys as positions is deprecated. In a future version, integer keys will always be treated as labels (consistent with DataFrame behavior). To access a value by position, use `ser.iloc[pos]`\n",
      "  SA2_AP = df.iloc[12][4]\n",
      "C:\\Users\\local_ShurlockT\\Temp\\ipykernel_23868\\3832884910.py:16: FutureWarning: Series.__getitem__ treating keys as positions is deprecated. In a future version, integer keys will always be treated as labels (consistent with DataFrame behavior). To access a value by position, use `ser.iloc[pos]`\n",
      "  SA3_AP = df.iloc[13][4]\n",
      "C:\\Users\\local_ShurlockT\\Temp\\ipykernel_23868\\3832884910.py:17: FutureWarning: Series.__getitem__ treating keys as positions is deprecated. In a future version, integer keys will always be treated as labels (consistent with DataFrame behavior). To access a value by position, use `ser.iloc[pos]`\n",
      "  SA4_AP = df.iloc[14][4]\n",
      "C:\\Users\\local_ShurlockT\\Temp\\ipykernel_23868\\3832884910.py:18: FutureWarning: Series.__getitem__ treating keys as positions is deprecated. In a future version, integer keys will always be treated as labels (consistent with DataFrame behavior). To access a value by position, use `ser.iloc[pos]`\n",
      "  SA5_AP = df.iloc[15][4]\n",
      "C:\\Users\\local_ShurlockT\\Temp\\ipykernel_23868\\3832884910.py:19: FutureWarning: Series.__getitem__ treating keys as positions is deprecated. In a future version, integer keys will always be treated as labels (consistent with DataFrame behavior). To access a value by position, use `ser.iloc[pos]`\n",
      "  SA6_AP = df.iloc[16][4]\n",
      "C:\\Users\\local_ShurlockT\\Temp\\ipykernel_23868\\3832884910.py:20: FutureWarning: Series.__getitem__ treating keys as positions is deprecated. In a future version, integer keys will always be treated as labels (consistent with DataFrame behavior). To access a value by position, use `ser.iloc[pos]`\n",
      "  SA7_AP = df.iloc[17][4]\n",
      "C:\\Users\\local_ShurlockT\\Temp\\ipykernel_23868\\3832884910.py:21: FutureWarning: Series.__getitem__ treating keys as positions is deprecated. In a future version, integer keys will always be treated as labels (consistent with DataFrame behavior). To access a value by position, use `ser.iloc[pos]`\n",
      "  SA8_AP = df.iloc[18][4]\n",
      "C:\\Users\\local_ShurlockT\\Temp\\ipykernel_23868\\3832884910.py:22: FutureWarning: Series.__getitem__ treating keys as positions is deprecated. In a future version, integer keys will always be treated as labels (consistent with DataFrame behavior). To access a value by position, use `ser.iloc[pos]`\n",
      "  SA9_AP = df.iloc[19][4]\n",
      "C:\\Users\\local_ShurlockT\\Temp\\ipykernel_23868\\3832884910.py:23: FutureWarning: Series.__getitem__ treating keys as positions is deprecated. In a future version, integer keys will always be treated as labels (consistent with DataFrame behavior). To access a value by position, use `ser.iloc[pos]`\n",
      "  SA10_AP = df.iloc[20][4]\n",
      "C:\\Users\\local_ShurlockT\\Temp\\ipykernel_23868\\3832884910.py:25: FutureWarning: Series.__getitem__ treating keys as positions is deprecated. In a future version, integer keys will always be treated as labels (consistent with DataFrame behavior). To access a value by position, use `ser.iloc[pos]`\n",
      "  SA1_FR = df.iloc[11][5]\n",
      "C:\\Users\\local_ShurlockT\\Temp\\ipykernel_23868\\3832884910.py:26: FutureWarning: Series.__getitem__ treating keys as positions is deprecated. In a future version, integer keys will always be treated as labels (consistent with DataFrame behavior). To access a value by position, use `ser.iloc[pos]`\n",
      "  SA2_FR = df.iloc[12][5]\n",
      "C:\\Users\\local_ShurlockT\\Temp\\ipykernel_23868\\3832884910.py:27: FutureWarning: Series.__getitem__ treating keys as positions is deprecated. In a future version, integer keys will always be treated as labels (consistent with DataFrame behavior). To access a value by position, use `ser.iloc[pos]`\n",
      "  SA3_FR = df.iloc[13][5]\n",
      "C:\\Users\\local_ShurlockT\\Temp\\ipykernel_23868\\3832884910.py:28: FutureWarning: Series.__getitem__ treating keys as positions is deprecated. In a future version, integer keys will always be treated as labels (consistent with DataFrame behavior). To access a value by position, use `ser.iloc[pos]`\n",
      "  SA4_FR = df.iloc[14][5]\n",
      "C:\\Users\\local_ShurlockT\\Temp\\ipykernel_23868\\3832884910.py:29: FutureWarning: Series.__getitem__ treating keys as positions is deprecated. In a future version, integer keys will always be treated as labels (consistent with DataFrame behavior). To access a value by position, use `ser.iloc[pos]`\n",
      "  SA5_FR = df.iloc[15][5]\n",
      "C:\\Users\\local_ShurlockT\\Temp\\ipykernel_23868\\3832884910.py:30: FutureWarning: Series.__getitem__ treating keys as positions is deprecated. In a future version, integer keys will always be treated as labels (consistent with DataFrame behavior). To access a value by position, use `ser.iloc[pos]`\n",
      "  SA6_FR = df.iloc[16][5]\n",
      "C:\\Users\\local_ShurlockT\\Temp\\ipykernel_23868\\3832884910.py:31: FutureWarning: Series.__getitem__ treating keys as positions is deprecated. In a future version, integer keys will always be treated as labels (consistent with DataFrame behavior). To access a value by position, use `ser.iloc[pos]`\n",
      "  SA7_FR = df.iloc[17][5]\n",
      "C:\\Users\\local_ShurlockT\\Temp\\ipykernel_23868\\3832884910.py:32: FutureWarning: Series.__getitem__ treating keys as positions is deprecated. In a future version, integer keys will always be treated as labels (consistent with DataFrame behavior). To access a value by position, use `ser.iloc[pos]`\n",
      "  SA8_FR = df.iloc[18][5]\n",
      "C:\\Users\\local_ShurlockT\\Temp\\ipykernel_23868\\3832884910.py:33: FutureWarning: Series.__getitem__ treating keys as positions is deprecated. In a future version, integer keys will always be treated as labels (consistent with DataFrame behavior). To access a value by position, use `ser.iloc[pos]`\n",
      "  SA9_FR = df.iloc[19][5]\n",
      "C:\\Users\\local_ShurlockT\\Temp\\ipykernel_23868\\3832884910.py:34: FutureWarning: Series.__getitem__ treating keys as positions is deprecated. In a future version, integer keys will always be treated as labels (consistent with DataFrame behavior). To access a value by position, use `ser.iloc[pos]`\n",
      "  SA10_FR = df.iloc[20][5]\n"
     ]
    }
   ],
   "source": [
    "Trust_code = df.iloc[5][2]\n",
    "Trust_name = df.iloc[4][2]\n",
    "SA1 = df.iloc[11][3]\n",
    "SA2 = df.iloc[12][3]\n",
    "SA3 = df.iloc[13][3]\n",
    "SA4 = df.iloc[14][3]\n",
    "SA5 = df.iloc[15][3]\n",
    "SA6 = df.iloc[16][3]\n",
    "SA7 = df.iloc[17][3]\n",
    "SA8 = df.iloc[18][3]\n",
    "SA9 = df.iloc[19][3]\n",
    "SA10 = df.iloc[20][3]\n",
    "\n",
    "SA1_AP = df.iloc[11][4]\n",
    "SA2_AP = df.iloc[12][4]\n",
    "SA3_AP = df.iloc[13][4]\n",
    "SA4_AP = df.iloc[14][4]\n",
    "SA5_AP = df.iloc[15][4]\n",
    "SA6_AP = df.iloc[16][4]\n",
    "SA7_AP = df.iloc[17][4]\n",
    "SA8_AP = df.iloc[18][4]\n",
    "SA9_AP = df.iloc[19][4]\n",
    "SA10_AP = df.iloc[20][4]\n",
    "\n",
    "SA1_FR = df.iloc[11][5]\n",
    "SA2_FR = df.iloc[12][5]\n",
    "SA3_FR = df.iloc[13][5]\n",
    "SA4_FR = df.iloc[14][5]\n",
    "SA5_FR = df.iloc[15][5]\n",
    "SA6_FR = df.iloc[16][5]\n",
    "SA7_FR = df.iloc[17][5]\n",
    "SA8_FR = df.iloc[18][5]\n",
    "SA9_FR = df.iloc[19][5]\n",
    "SA10_FR = df.iloc[20][5]\n",
    "\n",
    "\n"
   ]
  },
  {
   "cell_type": "code",
   "execution_count": 36,
   "metadata": {},
   "outputs": [
    {
     "name": "stdout",
     "output_type": "stream",
     "text": [
      "T236\n",
      "Dorset County Hospital NHS Foundation Trust\n",
      "Yes\n",
      "Yes\n",
      "Yes\n",
      "Yes\n",
      "No\n",
      "No\n",
      "No\n",
      "No\n",
      "No\n",
      "Yes\n",
      "\n",
      "new stuff\n",
      "\n",
      "nan\n",
      "nan\n",
      "nan\n",
      "nan\n",
      "Yes\n",
      "Yes\n",
      "Yes\n",
      "Yes\n",
      "Yes\n",
      "nan\n",
      "\n",
      "Finance\n",
      "\n",
      "nan\n",
      "nan\n",
      "nan\n",
      "nan\n",
      "nan\n",
      "nan\n",
      "nan\n",
      "nan\n",
      "nan\n",
      "nan\n"
     ]
    }
   ],
   "source": [
    "print(Trust_code)\n",
    "print(Trust_name)\n",
    "print(SA1)\n",
    "print(SA2)\n",
    "print(SA3)\n",
    "print(SA4)\n",
    "print(SA5)\n",
    "print(SA6)\n",
    "print(SA7)\n",
    "print(SA8)\n",
    "print(SA9)\n",
    "print(SA10)\n",
    "print()\n",
    "print('new stuff')\n",
    "print()\n",
    "print(SA1_AP)\n",
    "print(SA2_AP)\n",
    "print(SA3_AP) \n",
    "print(SA4_AP)\n",
    "print(SA5_AP) \n",
    "print(SA6_AP)\n",
    "print(SA7_AP)\n",
    "print(SA8_AP)\n",
    "print(SA9_AP)\n",
    "print(SA10_AP)\n",
    "print()\n",
    "print('Finance')\n",
    "print()\n",
    "print(SA1_FR) \n",
    "print(SA2_FR) \n",
    "print(SA3_FR)\n",
    "print(SA4_FR)\n",
    "print(SA5_FR)\n",
    "print(SA6_FR)\n",
    "print(SA7_FR)\n",
    "print(SA8_FR)\n",
    "print(SA9_FR)\n",
    "print(SA10_FR)\n"
   ]
  },
  {
   "cell_type": "code",
   "execution_count": 13,
   "metadata": {},
   "outputs": [],
   "source": [
    "Think=\"Trust_code Trust_name SA1 SA2 SA3 SA4 SA5 SA6 SA7 SA8 SA9 SA10 SA1_AP SA2_AP SA3_AP SA4_AP SA5_AP SA6_AP SA7_AP SA8_AP SA9_AP SA10_AP SA1_FR SA2_FR SA3_FR SA4_FR SA5_FR SA6_FR SA7_FR SA8_FR SA9_FR SA10_FR\""
   ]
  },
  {
   "cell_type": "code",
   "execution_count": 14,
   "metadata": {},
   "outputs": [],
   "source": [
    "These_Cols=Think.split()"
   ]
  },
  {
   "cell_type": "code",
   "execution_count": 15,
   "metadata": {},
   "outputs": [
    {
     "name": "stdout",
     "output_type": "stream",
     "text": [
      "['Trust_code', 'Trust_name', 'SA1', 'SA2', 'SA3', 'SA4', 'SA5', 'SA6', 'SA7', 'SA8', 'SA9', 'SA10', 'SA1_AP', 'SA2_AP', 'SA3_AP', 'SA4_AP', 'SA5_AP', 'SA6_AP', 'SA7_AP', 'SA8_AP', 'SA9_AP', 'SA10_AP', 'SA1_FR', 'SA2_FR', 'SA3_FR', 'SA4_FR', 'SA5_FR', 'SA6_FR', 'SA7_FR', 'SA8_FR', 'SA9_FR', 'SA10_FR']\n"
     ]
    }
   ],
   "source": [
    "print(These_Cols)"
   ]
  },
  {
   "cell_type": "code",
   "execution_count": null,
   "metadata": {},
   "outputs": [],
   "source": []
  },
  {
   "cell_type": "code",
   "execution_count": 16,
   "metadata": {},
   "outputs": [
    {
     "name": "stdout",
     "output_type": "stream",
     "text": [
      "    Trust_code                                         Trust_name  SA1  SA2  \\\n",
      "0         F001          Hampshire Hospitals NHS Foundation Trust   Yes  Yes   \n",
      "1         T011  The Norfolk and Norwich University Hospitals N...  Yes  Yes   \n",
      "2         T013  University Hospitals Coventry and Warwickshire...  Yes  Yes   \n",
      "3         T014                    George Eliot Hospital NHS Trust  Yes  Yes   \n",
      "4         T016    University Hospital of North Midlands NHS Trust  Yes  Yes   \n",
      "..         ...                                                ...  ...  ...   \n",
      "111       T687             North West Anglia NHS Foundation Trust  Yes  Yes   \n",
      "112       T688         Manchester University NHS Foundation Trust  Yes  Yes   \n",
      "113       T690      East Suffolk North Essex NHS Foundation Trust  Yes  Yes   \n",
      "114       T691  South Tyneside and Sunderland NHS Foundation T...  Yes  Yes   \n",
      "115       T694   University Hospitals Dorset NHS Foundation Trust  Yes  Yes   \n",
      "\n",
      "     SA3  SA4  SA5  SA6  SA7  SA8  ... SA1_FR SA2_FR SA3_FR  SA4_FR SA5_FR  \\\n",
      "0    Yes  Yes  Yes  Yes  Yes  Yes  ...    0.0      0      0       0    0.0   \n",
      "1    Yes  Yes  Yes  Yes  Yes  Yes  ...    0.0      0      0       0    0.0   \n",
      "2    Yes  Yes  Yes  Yes  Yes  Yes  ...    0.0      0      0       0    0.0   \n",
      "3    Yes  Yes  Yes  Yes  Yes  Yes  ...    0.0      0      0       0    0.0   \n",
      "4    Yes  Yes  Yes  Yes  Yes  Yes  ...    0.0      0      0       0    0.0   \n",
      "..   ...  ...  ...  ...  ...  ...  ...    ...    ...    ...     ...    ...   \n",
      "111  Yes  Yes  Yes  Yes  Yes  Yes  ...    0.0      0      0       0    0.0   \n",
      "112  Yes  Yes  Yes  Yes  Yes  Yes  ...    0.0      0      0       0    0.0   \n",
      "113  Yes  Yes  Yes  Yes  Yes  Yes  ...    0.0      0      0       0    0.0   \n",
      "114  Yes  Yes  Yes  Yes  Yes  Yes  ...    0.0      0      0       0    0.0   \n",
      "115  Yes   No  Yes   No  Yes   No  ...    0.0      0      0  145200    0.0   \n",
      "\n",
      "    SA6_FR SA7_FR    SA8_FR SA9_FR SA10_FR  \n",
      "0      0.0      0       0.0    0.0       0  \n",
      "1      0.0      0       0.0    0.0       0  \n",
      "2      0.0      0       0.0    0.0       0  \n",
      "3      0.0      0       0.0    0.0       0  \n",
      "4      0.0      0       0.0    0.0       0  \n",
      "..     ...    ...       ...    ...     ...  \n",
      "111    0.0      0       0.0    0.0       0  \n",
      "112    0.0      0       0.0    0.0       0  \n",
      "113    0.0      0       0.0    0.0       0  \n",
      "114    0.0      0       0.0    0.0       0  \n",
      "115    0.0      0  198800.0    0.0       0  \n",
      "\n",
      "[116 rows x 32 columns]\n"
     ]
    }
   ],
   "source": [
    "df_Result =pd.DataFrame(columns= These_Cols, data=all_values)\n",
    "\n",
    "# Display the DataFrame\n",
    "print(df_Result)"
   ]
  },
  {
   "cell_type": "code",
   "execution_count": 18,
   "metadata": {},
   "outputs": [],
   "source": [
    "df_Result.to_csv(\"results_2022_Y5.csv\")"
   ]
  },
  {
   "cell_type": "code",
   "execution_count": 9,
   "metadata": {},
   "outputs": [
    {
     "name": "stdout",
     "output_type": "stream",
     "text": [
      "[[1, 10, 4], [1, 10, 4], [1, 10, 4], [5, 9, 10], [5, 9, 10], [5, 9, 10], [8, 10, 7], [8, 10, 7], [8, 10, 7], [6, 2, 1], [6, 2, 1], [6, 2, 1]]\n"
     ]
    }
   ],
   "source": [
    "# initialize list of lists \n",
    "data = []\n",
    "import random\n",
    "\n",
    "for i in range(4):\n",
    "    listy=[]\n",
    "    for j in range(3):\n",
    "        listy.append(random.randint(1, 10))\n",
    "        data.append(listy)\n",
    "\n",
    "print(data)\n"
   ]
  },
  {
   "cell_type": "code",
   "execution_count": 10,
   "metadata": {},
   "outputs": [
    {
     "name": "stdout",
     "output_type": "stream",
     "text": [
      "    Name  Age  Bum\n",
      "0      1   10    4\n",
      "1      1   10    4\n",
      "2      1   10    4\n",
      "3      5    9   10\n",
      "4      5    9   10\n",
      "5      5    9   10\n",
      "6      8   10    7\n",
      "7      8   10    7\n",
      "8      8   10    7\n",
      "9      6    2    1\n",
      "10     6    2    1\n",
      "11     6    2    1\n"
     ]
    }
   ],
   "source": [
    "# Create the pandas DataFrame \n",
    "dfa = pd.DataFrame(data, columns = ['Name', 'Age', 'Bum']) \n",
    " \n",
    "# print dataframe. \n",
    "print(dfa)"
   ]
  },
  {
   "cell_type": "code",
   "execution_count": 35,
   "metadata": {},
   "outputs": [
    {
     "data": {
      "text/plain": [
       "'def read_excel_data():\\n    try:\\n        # Read the Excel file\\n        df = pd.read_excel(\\'T236_single_sheet.xlsx\\')\\n        \\n        # Get data from cell D4\\n        cell_value = df.iloc[3, 3]  # 0-based indexing, so D4 is [3,3]\\n        print(\"Value from cell D4:\", cell_value)\\n        \\n        return df\\n    except FileNotFoundError:\\n        print(\"Excel file not found. Please make sure the file exists in the current directory.\")\\n    except Exception as e:\\n        print(f\"An error occurred: {e}\")\\n\\nif __name__ == \"__main__\":\\n    df = read_excel_data()'"
      ]
     },
     "execution_count": 35,
     "metadata": {},
     "output_type": "execute_result"
    }
   ],
   "source": [
    "'''def read_excel_data():\n",
    "    try:\n",
    "        # Read the Excel file\n",
    "        df = pd.read_excel('T236_single_sheet.xlsx')\n",
    "        \n",
    "        # Get data from cell D4\n",
    "        cell_value = df.iloc[3, 3]  # 0-based indexing, so D4 is [3,3]\n",
    "        print(\"Value from cell D4:\", cell_value)\n",
    "        \n",
    "        return df\n",
    "    except FileNotFoundError:\n",
    "        print(\"Excel file not found. Please make sure the file exists in the current directory.\")\n",
    "    except Exception as e:\n",
    "        print(f\"An error occurred: {e}\")\n",
    "\n",
    "if __name__ == \"__main__\":\n",
    "    df = read_excel_data()'''\n"
   ]
  }
 ],
 "metadata": {
  "kernelspec": {
   "display_name": "Python 3",
   "language": "python",
   "name": "python3"
  },
  "language_info": {
   "codemirror_mode": {
    "name": "ipython",
    "version": 3
   },
   "file_extension": ".py",
   "mimetype": "text/x-python",
   "name": "python",
   "nbconvert_exporter": "python",
   "pygments_lexer": "ipython3",
   "version": "3.11.9"
  }
 },
 "nbformat": 4,
 "nbformat_minor": 2
}
